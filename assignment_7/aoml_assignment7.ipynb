{
  "nbformat": 4,
  "nbformat_minor": 0,
  "metadata": {
    "colab": {
      "provenance": []
    },
    "kernelspec": {
      "name": "python3",
      "display_name": "Python 3"
    },
    "language_info": {
      "name": "python"
    }
  },
  "cells": [
    {
      "cell_type": "markdown",
      "source": [
        "Dimensionality Rediction"
      ],
      "metadata": {
        "id": "SCjotpM6aRtM"
      }
    },
    {
      "cell_type": "code",
      "execution_count": null,
      "metadata": {
        "colab": {
          "base_uri": "https://localhost:8080/"
        },
        "id": "FIH8McrFONDV",
        "outputId": "cae21ed9-ba77-4043-ac9c-f7d2cf97edc1"
      },
      "outputs": [
        {
          "output_type": "stream",
          "name": "stdout",
          "text": [
            "Dataset stored at: /root/.cache/kagglehub/datasets/zalando-research/fashionmnist/versions/4\n"
          ]
        }
      ],
      "source": [
        "import kagglehub\n",
        "\n",
        "# Load the dataset directly (does not require manual downloading)\n",
        "dataset_path = kagglehub.dataset_download(\"zalando-research/fashionmnist\")\n",
        "\n",
        "print(\"Dataset stored at:\", dataset_path)\n"
      ]
    },
    {
      "cell_type": "code",
      "source": [
        "import pandas as pd\n",
        "\n",
        "# Define paths to CSV files\n",
        "train_path = dataset_path + \"/fashion-mnist_train.csv\"\n",
        "test_path = dataset_path + \"/fashion-mnist_test.csv\"\n",
        "\n",
        "# Load the dataset into Pandas DataFrames\n",
        "train_df = pd.read_csv(train_path)\n",
        "test_df = pd.read_csv(test_path)\n",
        "\n",
        "# Print first few rows to verify\n",
        "print(train_df.head())\n"
      ],
      "metadata": {
        "colab": {
          "base_uri": "https://localhost:8080/"
        },
        "id": "rh3N01GfOVMM",
        "outputId": "fa3b5c90-675f-4320-a512-14b52b1eb8b6"
      },
      "execution_count": null,
      "outputs": [
        {
          "output_type": "stream",
          "name": "stdout",
          "text": [
            "   label  pixel1  pixel2  pixel3  pixel4  pixel5  pixel6  pixel7  pixel8  \\\n",
            "0      2       0       0       0       0       0       0       0       0   \n",
            "1      9       0       0       0       0       0       0       0       0   \n",
            "2      6       0       0       0       0       0       0       0       5   \n",
            "3      0       0       0       0       1       2       0       0       0   \n",
            "4      3       0       0       0       0       0       0       0       0   \n",
            "\n",
            "   pixel9  ...  pixel775  pixel776  pixel777  pixel778  pixel779  pixel780  \\\n",
            "0       0  ...         0         0         0         0         0         0   \n",
            "1       0  ...         0         0         0         0         0         0   \n",
            "2       0  ...         0         0         0        30        43         0   \n",
            "3       0  ...         3         0         0         0         0         1   \n",
            "4       0  ...         0         0         0         0         0         0   \n",
            "\n",
            "   pixel781  pixel782  pixel783  pixel784  \n",
            "0         0         0         0         0  \n",
            "1         0         0         0         0  \n",
            "2         0         0         0         0  \n",
            "3         0         0         0         0  \n",
            "4         0         0         0         0  \n",
            "\n",
            "[5 rows x 785 columns]\n"
          ]
        }
      ]
    },
    {
      "cell_type": "code",
      "source": [
        "import time\n",
        "import numpy as np\n",
        "import pandas as pd\n",
        "import matplotlib.pyplot as plt\n",
        "from sklearn.decomposition import PCA\n",
        "from sklearn.ensemble import RandomForestClassifier\n",
        "from sklearn.model_selection import train_test_split\n",
        "from sklearn.preprocessing import StandardScaler\n",
        "from sklearn.metrics import accuracy_score\n",
        "import xgboost as xgb"
      ],
      "metadata": {
        "id": "E3wIq4nhO4DW"
      },
      "execution_count": null,
      "outputs": []
    },
    {
      "cell_type": "code",
      "source": [
        "# Extract features and labels\n",
        "y_train = train_df.iloc[:, 0].values  # Labels (0-9)\n",
        "X_train = train_df.iloc[:, 1:].values  # Pixel values\n",
        "y_test = test_df.iloc[:, 0].values\n",
        "X_test = test_df.iloc[:, 1:].values\n",
        "\n",
        "# Standardize the features\n",
        "scaler = StandardScaler()\n",
        "X_train = scaler.fit_transform(X_train)\n",
        "X_test = scaler.transform(X_test)"
      ],
      "metadata": {
        "id": "4F2KGIWcPd8H"
      },
      "execution_count": null,
      "outputs": []
    },
    {
      "cell_type": "code",
      "source": [
        "xgb_model = xgb.XGBClassifier(n_estimators=100, learning_rate=0.1, max_depth=6, use_label_encoder=False, eval_metric='mlogloss')\n",
        "\n",
        "# Train the model\n",
        "start_time = time.time()\n",
        "xgb_model.fit(X_train, y_train)\n",
        "train_time_original = time.time() - start_time\n",
        "\n",
        "# Predict and evaluate\n",
        "y_pred = xgb_model.predict(X_test)\n",
        "accuracy_original = accuracy_score(y_test, y_pred)\n",
        "print(f\"Original XGBoost Accuracy: {accuracy_original:.4f}\")\n",
        "\n",
        "# Measure inference time\n",
        "start_time = time.time()\n",
        "y_pred = xgb_model.predict(X_test)\n",
        "inference_time_orig = time.time() - start_time\n",
        "\n",
        "# Calculate accuracy\n",
        "accuracy_orig = accuracy_score(y_test, y_pred)\n",
        "\n",
        "print(f\"Original Random Forest Accuracy: {accuracy_orig:.4f}\")\n",
        "print(f\"Training Time: {train_time_original:.2f} sec\")\n",
        "print(f\"Inference Time: {inference_time_orig:.2f} sec\")\n"
      ],
      "metadata": {
        "colab": {
          "base_uri": "https://localhost:8080/"
        },
        "id": "4i4G7PQQPhIs",
        "outputId": "37703a38-957e-4ee9-9d96-df053f3ac247"
      },
      "execution_count": null,
      "outputs": [
        {
          "output_type": "stream",
          "name": "stderr",
          "text": [
            "/usr/local/lib/python3.11/dist-packages/xgboost/core.py:158: UserWarning: [05:05:49] WARNING: /workspace/src/learner.cc:740: \n",
            "Parameters: { \"use_label_encoder\" } are not used.\n",
            "\n",
            "  warnings.warn(smsg, UserWarning)\n"
          ]
        },
        {
          "output_type": "stream",
          "name": "stdout",
          "text": [
            "Original XGBoost Accuracy: 0.8970\n",
            "Original Random Forest Accuracy: 0.8970\n",
            "Training Time: 117.31 sec\n",
            "Inference Time: 0.38 sec\n"
          ]
        }
      ]
    },
    {
      "cell_type": "code",
      "source": [
        " # Apply PCA and find the explained variance\n",
        "pca = PCA().fit(X_train)\n",
        "explained_variance = np.cumsum(pca.explained_variance_ratio_)\n",
        "\n",
        "# Plot explained variance\n",
        "plt.figure(figsize=(8, 5))\n",
        "plt.plot(range(1, 785), explained_variance, marker='o', linestyle='--')\n",
        "plt.xlabel('Number of Components')\n",
        "plt.ylabel('Cumulative Explained Variance')\n",
        "plt.title('PCA - Explained Variance vs. Components')\n",
        "plt.axhline(y=0.95, color='r', linestyle='--')  # 95% threshold\n",
        "plt.grid()\n",
        "plt.show()\n",
        "\n",
        "# Pick n_components that explains 95% of variance\n",
        "n_components = np.argmax(explained_variance >= 0.9) + 1\n",
        "print(f\"Optimal n_components: {n_components}\")\n"
      ],
      "metadata": {
        "colab": {
          "base_uri": "https://localhost:8080/",
          "height": 504
        },
        "id": "wZuaXVHgPmTB",
        "outputId": "a2f2019f-2d59-4708-bbac-c85afad3b101"
      },
      "execution_count": null,
      "outputs": [
        {
          "output_type": "display_data",
          "data": {
            "text/plain": [
              "<Figure size 800x500 with 1 Axes>"
            ],
            "image/png": "[encoded data removed]"
          },
          "metadata": {}
        },
        {
          "output_type": "stream",
          "name": "stdout",
          "text": [
            "Optimal n_components: 137\n"
          ]
        }
      ]
    },
    {
      "cell_type": "code",
      "source": [
        "# Apply PCA with optimal n_components\n",
        "pca = PCA(n_components=n_components)\n",
        "X_train_pca = pca.fit_transform(X_train)\n",
        "X_test_pca = pca.transform(X_test)\n",
        "\n",
        "# Train xgb with PCA data\n",
        "xgb_pca =  xgb.XGBClassifier(n_estimators=100, random_state=42)\n",
        "\n",
        "# Measure training time\n",
        "start_time = time.time()\n",
        "xgb_pca.fit(X_train_pca, y_train)\n",
        "train_time_pca = time.time() - start_time\n",
        "\n",
        "# Measure inference time\n",
        "start_time = time.time()\n",
        "y_pred_pca = xgb_pca.predict(X_test_pca)\n",
        "inference_time_pca = time.time() - start_time\n",
        "\n",
        "# Calculate accuracy\n",
        "accuracy_pca = accuracy_score(y_test, y_pred_pca)\n",
        "\n",
        "print(f\"XGBoost with PCA Accuracy: {accuracy_pca:.4f}\")\n",
        "print(f\"Training Time: {train_time_pca:.2f} sec\")\n",
        "print(f\"Inference Time: {inference_time_pca:.2f} sec\")\n"
      ],
      "metadata": {
        "colab": {
          "base_uri": "https://localhost:8080/"
        },
        "id": "7aWyBENoPush",
        "outputId": "d766ce8c-7f78-44f3-8e94-875b6f4dbabe"
      },
      "execution_count": null,
      "outputs": [
        {
          "output_type": "stream",
          "name": "stdout",
          "text": [
            "XGBoost with PCA Accuracy: 0.8854\n",
            "Training Time: 100.36 sec\n",
            "Inference Time: 0.25 sec\n"
          ]
        }
      ]
    },
    {
      "cell_type": "code",
      "source": [
        "print(\"\\n📊 **Performance Comparison**\")\n",
        "print(f\"Original Random Forest Accuracy: {accuracy_orig:.4f} | Training Time: {train_time_orig:.2f} sec | Inference Time: {inference_time_orig:.2f} sec\")\n",
        "print(f\"Random Forest with PCA Accuracy: {accuracy_pca:.4f} | Training Time: {train_time_pca:.2f} sec | Inference Time: {inference_time_pca:.2f} sec\")\n",
        "\n",
        "# Plot accuracy comparison\n",
        "plt.figure(figsize=(6,4))\n",
        "plt.bar(['Original', 'PCA'], [accuracy_orig, accuracy_pca], color=['blue', 'orange'])\n",
        "plt.ylabel('Accuracy')\n",
        "plt.title('Random Forest Accuracy Comparison')\n",
        "plt.ylim(0.7, 1.0)\n",
        "plt.show()\n",
        "\n",
        "# Plot time comparison\n",
        "plt.figure(figsize=(6,4))\n",
        "plt.bar(['Original', 'PCA'], [train_time_orig, train_time_pca], color=['blue', 'orange'])\n",
        "plt.ylabel('Training Time (s)')\n",
        "plt.title('Random Forest Training Time Comparison')\n",
        "plt.show()\n"
      ],
      "metadata": {
        "colab": {
          "base_uri": "https://localhost:8080/",
          "height": 834
        },
        "id": "vG0hBSKnPuvv",
        "outputId": "193069a2-678a-40e5-8fc8-584335564f9b"
      },
      "execution_count": null,
      "outputs": [
        {
          "output_type": "stream",
          "name": "stdout",
          "text": [
            "\n",
            "📊 **Performance Comparison**\n",
            "Original Random Forest Accuracy: 0.8970 | Training Time: 117.31 sec | Inference Time: 0.38 sec\n",
            "Random Forest with PCA Accuracy: 0.8854 | Training Time: 100.36 sec | Inference Time: 0.25 sec\n"
          ]
        },
        {
          "output_type": "display_data",
          "data": {
            "text/plain": [
              "<Figure size 600x400 with 1 Axes>"
            ],
            "image/png": "[encoded data removed]"
          },
          "metadata": {}
        },
        {
          "output_type": "display_data",
          "data": {
            "text/plain": [
              "<Figure size 600x400 with 1 Axes>"
            ],
            "image/png": "[encoded data removed]"
          },
          "metadata": {}
        }
      ]
    },
    {
      "cell_type": "markdown",
      "source": [
        "k-means"
      ],
      "metadata": {
        "id": "E6_Ic6EnaNpP"
      }
    },
    {
      "cell_type": "code",
      "source": [
        "# Load the dataset directly (does not require manual downloading)\n",
        "dataset_path = kagglehub.dataset_download(\"uciml/iris\")\n",
        "\n",
        "print(\"Dataset stored at:\", dataset_path)"
      ],
      "metadata": {
        "colab": {
          "base_uri": "https://localhost:8080/"
        },
        "id": "tM0Iha6eagjI",
        "outputId": "5ee10150-a41e-435f-e894-ba8aa01a6bf1"
      },
      "execution_count": null,
      "outputs": [
        {
          "output_type": "stream",
          "name": "stdout",
          "text": [
            "Downloading from https://www.kaggle.com/api/v1/datasets/download/uciml/iris?dataset_version_number=2...\n"
          ]
        },
        {
          "output_type": "stream",
          "name": "stderr",
          "text": [
            "100%|██████████| 3.60k/3.60k [00:00<00:00, 3.58MB/s]"
          ]
        },
        {
          "output_type": "stream",
          "name": "stdout",
          "text": [
            "Extracting files...\n",
            "Dataset stored at: /root/.cache/kagglehub/datasets/uciml/iris/versions/2\n"
          ]
        },
        {
          "output_type": "stream",
          "name": "stderr",
          "text": [
            "\n"
          ]
        }
      ]
    },
    {
      "cell_type": "code",
      "source": [
        "# Define paths to CSV files\n",
        "data_path = dataset_path + \"/Iris.csv\"\n",
        "\n",
        "# Load the dataset into Pandas DataFrames\n",
        "df = pd.read_csv(data_path)\n",
        "\n",
        "# Print first few rows to verify\n",
        "print(df.head())"
      ],
      "metadata": {
        "colab": {
          "base_uri": "https://localhost:8080/"
        },
        "id": "qHIk6_l4apOb",
        "outputId": "34229842-d340-4770-b06a-b6c65a6cf260"
      },
      "execution_count": null,
      "outputs": [
        {
          "output_type": "stream",
          "name": "stdout",
          "text": [
            "   Id  SepalLengthCm  SepalWidthCm  PetalLengthCm  PetalWidthCm      Species\n",
            "0   1            5.1           3.5            1.4           0.2  Iris-setosa\n",
            "1   2            4.9           3.0            1.4           0.2  Iris-setosa\n",
            "2   3            4.7           3.2            1.3           0.2  Iris-setosa\n",
            "3   4            4.6           3.1            1.5           0.2  Iris-setosa\n",
            "4   5            5.0           3.6            1.4           0.2  Iris-setosa\n"
          ]
        }
      ]
    },
    {
      "cell_type": "code",
      "source": [
        "from sklearn.preprocessing import OneHotEncoder\n",
        "\n",
        "# Initialize OneHotEncoder\n",
        "encoder = OneHotEncoder(sparse_output=False)\n",
        "\n",
        "# Transform 'Species' column\n",
        "species_encoded = encoder.fit_transform(df[['Species']])\n",
        "\n",
        "# Convert to DataFrame\n",
        "species_df = pd.DataFrame(species_encoded, columns=encoder.get_feature_names_out(['Species']))\n",
        "\n",
        "# Concatenate with original DataFrame\n",
        "df_final = pd.concat([df.drop(columns=['Species']), species_df], axis=1)\n",
        "\n",
        "print(df_final.head())\n"
      ],
      "metadata": {
        "colab": {
          "base_uri": "https://localhost:8080/"
        },
        "id": "HmJMZDaqbxk0",
        "outputId": "4ec52a79-9f76-49ef-9ba3-895cb473ee64"
      },
      "execution_count": null,
      "outputs": [
        {
          "output_type": "stream",
          "name": "stdout",
          "text": [
            "   Id  SepalLengthCm  SepalWidthCm  PetalLengthCm  PetalWidthCm  \\\n",
            "0   1            5.1           3.5            1.4           0.2   \n",
            "1   2            4.9           3.0            1.4           0.2   \n",
            "2   3            4.7           3.2            1.3           0.2   \n",
            "3   4            4.6           3.1            1.5           0.2   \n",
            "4   5            5.0           3.6            1.4           0.2   \n",
            "\n",
            "   Species_Iris-setosa  Species_Iris-versicolor  Species_Iris-virginica  \n",
            "0                  1.0                      0.0                     0.0  \n",
            "1                  1.0                      0.0                     0.0  \n",
            "2                  1.0                      0.0                     0.0  \n",
            "3                  1.0                      0.0                     0.0  \n",
            "4                  1.0                      0.0                     0.0  \n"
          ]
        }
      ]
    },
    {
      "cell_type": "code",
      "source": [
        "from sklearn.preprocessing import StandardScaler\n",
        "scaler = StandardScaler()\n",
        "columns_to_scale = ['SepalLengthCm', 'SepalWidthCm', 'PetalLengthCm', 'PetalWidthCm']\n",
        "\n",
        "# Apply scaling\n",
        "df_scaled = df_final.copy()  # Make a copy of the DataFrame\n",
        "df_scaled[columns_to_scale] = scaler.fit_transform(df_scaled[columns_to_scale])\n",
        "\n",
        "print(df_scaled.head())"
      ],
      "metadata": {
        "colab": {
          "base_uri": "https://localhost:8080/"
        },
        "id": "OfQlbCZmb-UZ",
        "outputId": "fed5092b-ce36-4b95-9adf-08da538c6fc9"
      },
      "execution_count": null,
      "outputs": [
        {
          "output_type": "stream",
          "name": "stdout",
          "text": [
            "   Id  SepalLengthCm  SepalWidthCm  PetalLengthCm  PetalWidthCm  \\\n",
            "0   1      -0.900681      1.032057      -1.341272     -1.312977   \n",
            "1   2      -1.143017     -0.124958      -1.341272     -1.312977   \n",
            "2   3      -1.385353      0.337848      -1.398138     -1.312977   \n",
            "3   4      -1.506521      0.106445      -1.284407     -1.312977   \n",
            "4   5      -1.021849      1.263460      -1.341272     -1.312977   \n",
            "\n",
            "   Species_Iris-setosa  Species_Iris-versicolor  Species_Iris-virginica  \n",
            "0                  1.0                      0.0                     0.0  \n",
            "1                  1.0                      0.0                     0.0  \n",
            "2                  1.0                      0.0                     0.0  \n",
            "3                  1.0                      0.0                     0.0  \n",
            "4                  1.0                      0.0                     0.0  \n"
          ]
        }
      ]
    },
    {
      "cell_type": "code",
      "source": [
        "from sklearn.cluster import KMeans\n",
        "\n",
        "# Define number of clusters (e.g., 3 for the 3 species in Iris dataset)\n",
        "k = 3\n",
        "\n",
        "# Apply K-Means\n",
        "kmeans = KMeans(n_clusters=k, random_state=42, n_init=10)\n",
        "df_scaled['Cluster'] = kmeans.fit_predict(df_scaled[['SepalLengthCm', 'SepalWidthCm', 'PetalLengthCm', 'PetalWidthCm']])\n",
        "\n",
        "# Print results\n",
        "print(df_scaled[['Id', 'Cluster']].head())  # Show first few rows with clusters\n"
      ],
      "metadata": {
        "colab": {
          "base_uri": "https://localhost:8080/"
        },
        "id": "47F_vxZBczPo",
        "outputId": "8002fb54-99b9-4d7b-e361-79a29bfdefd7"
      },
      "execution_count": null,
      "outputs": [
        {
          "output_type": "stream",
          "name": "stdout",
          "text": [
            "   Id  Cluster\n",
            "0   1        1\n",
            "1   2        1\n",
            "2   3        1\n",
            "3   4        1\n",
            "4   5        1\n"
          ]
        }
      ]
    },
    {
      "cell_type": "code",
      "source": [
        "import matplotlib.pyplot as plt\n",
        "import seaborn as sns\n",
        "\n",
        "sns.scatterplot(x=df_scaled['PetalLengthCm'], y=df_scaled['PetalWidthCm'], hue=df_scaled['Cluster'], palette='viridis')\n",
        "plt.title(\"K-Means Clustering of Iris Data\")\n",
        "plt.xlabel(\"Petal Length\")\n",
        "plt.ylabel(\"Petal Width\")\n",
        "plt.show()\n"
      ],
      "metadata": {
        "colab": {
          "base_uri": "https://localhost:8080/",
          "height": 472
        },
        "id": "C709DGRgc-6o",
        "outputId": "0a2fe658-fcbd-483d-c4af-6ed86ab9398f"
      },
      "execution_count": null,
      "outputs": [
        {
          "output_type": "display_data",
          "data": {
            "text/plain": [
              "<Figure size 640x480 with 1 Axes>"
            ],
            "image/png": "[encoded data removed]"
          },
          "metadata": {}
        }
      ]
    },
    {
      "cell_type": "code",
      "source": [
        "sns.scatterplot(x=df_scaled['SepalLengthCm'], y=df_scaled['SepalWidthCm'], hue=df_scaled['Cluster'], palette='viridis')\n",
        "plt.title(\"K-Means Clustering of Iris Data\")\n",
        "plt.xlabel(\"sepal Length\")\n",
        "plt.ylabel(\"sepal Width\")\n",
        "plt.show()"
      ],
      "metadata": {
        "colab": {
          "base_uri": "https://localhost:8080/",
          "height": 472
        },
        "id": "9wgJJoybdDFG",
        "outputId": "f97e0cac-aa4e-4ba9-ceea-278eafef41e8"
      },
      "execution_count": null,
      "outputs": [
        {
          "output_type": "display_data",
          "data": {
            "text/plain": [
              "<Figure size 640x480 with 1 Axes>"
            ],
            "image/png": "[encoded data removed]"
          },
          "metadata": {}
        }
      ]
    },
    {
      "cell_type": "code",
      "source": [],
      "metadata": {
        "id": "043SWuxTffCJ"
      },
      "execution_count": null,
      "outputs": []
    },
    {
      "cell_type": "markdown",
      "source": [
        "Feature Selection"
      ],
      "metadata": {
        "id": "MqeODEQUflWD"
      }
    },
    {
      "cell_type": "code",
      "source": [
        "import pandas as pd\n",
        "df = pd.read_csv('train.csv')\n",
        "df.head()"
      ],
      "metadata": {
        "colab": {
          "base_uri": "https://localhost:8080/",
          "height": 226
        },
        "id": "8tRKxmmzfoMp",
        "outputId": "f28ba572-1d26-4e2b-d3a4-e721828f1ff4"
      },
      "execution_count": 2,
      "outputs": [
        {
          "output_type": "execute_result",
          "data": {
            "text/plain": [
              "   uid       day  hour  minute    C_motion  feed_water_motion  faucet_hole  \\\n",
              "0    0  Saturday   7.0     NaN  387.374315        2681.205431     0.678352   \n",
              "1    1  Saturday  12.0    28.0  238.153011        1604.213100     0.679706   \n",
              "2    2    Friday  15.0    13.0  338.270228        2398.561685     0.662971   \n",
              "3    3  Saturday  14.0     NaN  254.294492        1620.034059     0.679977   \n",
              "4    4  Saturday  18.0    16.0  203.189410        1485.672389     0.686342   \n",
              "\n",
              "   vapour_pressure  vapour_enthalpy  vapour_pressure_at_division  \\\n",
              "0        25.050893      2775.784134                    26.465138   \n",
              "1        15.241147      2903.619864                          NaN   \n",
              "2        23.078376      2796.443584                    24.316160   \n",
              "3        15.054982      2818.023511                    15.895513   \n",
              "4        12.963420      2816.144355                    13.682371   \n",
              "\n",
              "   vapour_motion  feed_water_enth  vapour_temperature  \\\n",
              "0    2682.758692      1289.082351          601.850322   \n",
              "1    1602.318002      1144.454102          603.933579   \n",
              "2            NaN      1258.098883          602.443281   \n",
              "3    1619.387667      1142.463833          588.938717   \n",
              "4    1487.685052      1099.539481          504.208816   \n",
              "\n",
              "   output_electricity_generation  \n",
              "0                     974.182544  \n",
              "1                     593.915516  \n",
              "2                     884.033450  \n",
              "3                     584.908719  \n",
              "4                     483.609973  "
            ],
            "text/html": [
              "\n",
              "  <div id=\"df-47556d01-74d0-49dc-be5b-66b2d1436bd1\" class=\"colab-df-container\">\n",
              "    <div>\n",
              "<style scoped>\n",
              "    .dataframe tbody tr th:only-of-type {\n",
              "        vertical-align: middle;\n",
              "    }\n",
              "\n",
              "    .dataframe tbody tr th {\n",
              "        vertical-align: top;\n",
              "    }\n",
              "\n",
              "    .dataframe thead th {\n",
              "        text-align: right;\n",
              "    }\n",
              "</style>\n",
              "<table border=\"1\" class=\"dataframe\">\n",
              "  <thead>\n",
              "    <tr style=\"text-align: right;\">\n",
              "      <th></th>\n",
              "      <th>uid</th>\n",
              "      <th>day</th>\n",
              "      <th>hour</th>\n",
              "      <th>minute</th>\n",
              "      <th>C_motion</th>\n",
              "      <th>feed_water_motion</th>\n",
              "      <th>faucet_hole</th>\n",
              "      <th>vapour_pressure</th>\n",
              "      <th>vapour_enthalpy</th>\n",
              "      <th>vapour_pressure_at_division</th>\n",
              "      <th>vapour_motion</th>\n",
              "      <th>feed_water_enth</th>\n",
              "      <th>vapour_temperature</th>\n",
              "      <th>output_electricity_generation</th>\n",
              "    </tr>\n",
              "  </thead>\n",
              "  <tbody>\n",
              "    <tr>\n",
              "      <th>0</th>\n",
              "      <td>0</td>\n",
              "      <td>Saturday</td>\n",
              "      <td>7.0</td>\n",
              "      <td>NaN</td>\n",
              "      <td>387.374315</td>\n",
              "      <td>2681.205431</td>\n",
              "      <td>0.678352</td>\n",
              "      <td>25.050893</td>\n",
              "      <td>2775.784134</td>\n",
              "      <td>26.465138</td>\n",
              "      <td>2682.758692</td>\n",
              "      <td>1289.082351</td>\n",
              "      <td>601.850322</td>\n",
              "      <td>974.182544</td>\n",
              "    </tr>\n",
              "    <tr>\n",
              "      <th>1</th>\n",
              "      <td>1</td>\n",
              "      <td>Saturday</td>\n",
              "      <td>12.0</td>\n",
              "      <td>28.0</td>\n",
              "      <td>238.153011</td>\n",
              "      <td>1604.213100</td>\n",
              "      <td>0.679706</td>\n",
              "      <td>15.241147</td>\n",
              "      <td>2903.619864</td>\n",
              "      <td>NaN</td>\n",
              "      <td>1602.318002</td>\n",
              "      <td>1144.454102</td>\n",
              "      <td>603.933579</td>\n",
              "      <td>593.915516</td>\n",
              "    </tr>\n",
              "    <tr>\n",
              "      <th>2</th>\n",
              "      <td>2</td>\n",
              "      <td>Friday</td>\n",
              "      <td>15.0</td>\n",
              "      <td>13.0</td>\n",
              "      <td>338.270228</td>\n",
              "      <td>2398.561685</td>\n",
              "      <td>0.662971</td>\n",
              "      <td>23.078376</td>\n",
              "      <td>2796.443584</td>\n",
              "      <td>24.316160</td>\n",
              "      <td>NaN</td>\n",
              "      <td>1258.098883</td>\n",
              "      <td>602.443281</td>\n",
              "      <td>884.033450</td>\n",
              "    </tr>\n",
              "    <tr>\n",
              "      <th>3</th>\n",
              "      <td>3</td>\n",
              "      <td>Saturday</td>\n",
              "      <td>14.0</td>\n",
              "      <td>NaN</td>\n",
              "      <td>254.294492</td>\n",
              "      <td>1620.034059</td>\n",
              "      <td>0.679977</td>\n",
              "      <td>15.054982</td>\n",
              "      <td>2818.023511</td>\n",
              "      <td>15.895513</td>\n",
              "      <td>1619.387667</td>\n",
              "      <td>1142.463833</td>\n",
              "      <td>588.938717</td>\n",
              "      <td>584.908719</td>\n",
              "    </tr>\n",
              "    <tr>\n",
              "      <th>4</th>\n",
              "      <td>4</td>\n",
              "      <td>Saturday</td>\n",
              "      <td>18.0</td>\n",
              "      <td>16.0</td>\n",
              "      <td>203.189410</td>\n",
              "      <td>1485.672389</td>\n",
              "      <td>0.686342</td>\n",
              "      <td>12.963420</td>\n",
              "      <td>2816.144355</td>\n",
              "      <td>13.682371</td>\n",
              "      <td>1487.685052</td>\n",
              "      <td>1099.539481</td>\n",
              "      <td>504.208816</td>\n",
              "      <td>483.609973</td>\n",
              "    </tr>\n",
              "  </tbody>\n",
              "</table>\n",
              "</div>\n",
              "    <div class=\"colab-df-buttons\">\n",
              "\n",
              "  <div class=\"colab-df-container\">\n",
              "    <button class=\"colab-df-convert\" onclick=\"convertToInteractive('df-47556d01-74d0-49dc-be5b-66b2d1436bd1')\"\n",
              "            title=\"Convert this dataframe to an interactive table.\"\n",
              "            style=\"display:none;\">\n",
              "\n",
              "  <svg xmlns=\"http://www.w3.org/2000/svg\" height=\"24px\" viewBox=\"0 -960 960 960\">\n",
              "    <path d=\"M120-120v-720h720v720H120Zm60-500h600v-160H180v160Zm220 220h160v-160H400v160Zm0 220h160v-160H400v160ZM180-400h160v-160H180v160Zm440 0h160v-160H620v160ZM180-180h160v-160H180v160Zm440 0h160v-160H620v160Z\"/>\n",
              "  </svg>\n",
              "    </button>\n",
              "\n",
              "  <style>\n",
              "    .colab-df-container {\n",
              "      display:flex;\n",
              "      gap: 12px;\n",
              "    }\n",
              "\n",
              "    .colab-df-convert {\n",
              "      background-color: #E8F0FE;\n",
              "      border: none;\n",
              "      border-radius: 50%;\n",
              "      cursor: pointer;\n",
              "      display: none;\n",
              "      fill: #1967D2;\n",
              "      height: 32px;\n",
              "      padding: 0 0 0 0;\n",
              "      width: 32px;\n",
              "    }\n",
              "\n",
              "    .colab-df-convert:hover {\n",
              "      background-color: #E2EBFA;\n",
              "      box-shadow: 0px 1px 2px rgba(60, 64, 67, 0.3), 0px 1px 3px 1px rgba(60, 64, 67, 0.15);\n",
              "      fill: #174EA6;\n",
              "    }\n",
              "\n",
              "    .colab-df-buttons div {\n",
              "      margin-bottom: 4px;\n",
              "    }\n",
              "\n",
              "    [theme=dark] .colab-df-convert {\n",
              "      background-color: #3B4455;\n",
              "      fill: #D2E3FC;\n",
              "    }\n",
              "\n",
              "    [theme=dark] .colab-df-convert:hover {\n",
              "      background-color: #434B5C;\n",
              "      box-shadow: 0px 1px 3px 1px rgba(0, 0, 0, 0.15);\n",
              "      filter: drop-shadow(0px 1px 2px rgba(0, 0, 0, 0.3));\n",
              "      fill: #FFFFFF;\n",
              "    }\n",
              "  </style>\n",
              "\n",
              "    <script>\n",
              "      const buttonEl =\n",
              "        document.querySelector('#df-47556d01-74d0-49dc-be5b-66b2d1436bd1 button.colab-df-convert');\n",
              "      buttonEl.style.display =\n",
              "        google.colab.kernel.accessAllowed ? 'block' : 'none';\n",
              "\n",
              "      async function convertToInteractive(key) {\n",
              "        const element = document.querySelector('#df-47556d01-74d0-49dc-be5b-66b2d1436bd1');\n",
              "        const dataTable =\n",
              "          await google.colab.kernel.invokeFunction('convertToInteractive',\n",
              "                                                    [key], {});\n",
              "        if (!dataTable) return;\n",
              "\n",
              "        const docLinkHtml = 'Like what you see? Visit the ' +\n",
              "          '<a target=\"_blank\" href=https://colab.research.google.com/notebooks/data_table.ipynb>data table notebook</a>'\n",
              "          + ' to learn more about interactive tables.';\n",
              "        element.innerHTML = '';\n",
              "        dataTable['output_type'] = 'display_data';\n",
              "        await google.colab.output.renderOutput(dataTable, element);\n",
              "        const docLink = document.createElement('div');\n",
              "        docLink.innerHTML = docLinkHtml;\n",
              "        element.appendChild(docLink);\n",
              "      }\n",
              "    </script>\n",
              "  </div>\n",
              "\n",
              "\n",
              "<div id=\"df-232a1bed-a657-4270-a97c-bfb00f6d4cfb\">\n",
              "  <button class=\"colab-df-quickchart\" onclick=\"quickchart('df-232a1bed-a657-4270-a97c-bfb00f6d4cfb')\"\n",
              "            title=\"Suggest charts\"\n",
              "            style=\"display:none;\">\n",
              "\n",
              "<svg xmlns=\"http://www.w3.org/2000/svg\" height=\"24px\"viewBox=\"0 0 24 24\"\n",
              "     width=\"24px\">\n",
              "    <g>\n",
              "        <path d=\"M19 3H5c-1.1 0-2 .9-2 2v14c0 1.1.9 2 2 2h14c1.1 0 2-.9 2-2V5c0-1.1-.9-2-2-2zM9 17H7v-7h2v7zm4 0h-2V7h2v10zm4 0h-2v-4h2v4z\"/>\n",
              "    </g>\n",
              "</svg>\n",
              "  </button>\n",
              "\n",
              "<style>\n",
              "  .colab-df-quickchart {\n",
              "      --bg-color: #E8F0FE;\n",
              "      --fill-color: #1967D2;\n",
              "      --hover-bg-color: #E2EBFA;\n",
              "      --hover-fill-color: #174EA6;\n",
              "      --disabled-fill-color: #AAA;\n",
              "      --disabled-bg-color: #DDD;\n",
              "  }\n",
              "\n",
              "  [theme=dark] .colab-df-quickchart {\n",
              "      --bg-color: #3B4455;\n",
              "      --fill-color: #D2E3FC;\n",
              "      --hover-bg-color: #434B5C;\n",
              "      --hover-fill-color: #FFFFFF;\n",
              "      --disabled-bg-color: #3B4455;\n",
              "      --disabled-fill-color: #666;\n",
              "  }\n",
              "\n",
              "  .colab-df-quickchart {\n",
              "    background-color: var(--bg-color);\n",
              "    border: none;\n",
              "    border-radius: 50%;\n",
              "    cursor: pointer;\n",
              "    display: none;\n",
              "    fill: var(--fill-color);\n",
              "    height: 32px;\n",
              "    padding: 0;\n",
              "    width: 32px;\n",
              "  }\n",
              "\n",
              "  .colab-df-quickchart:hover {\n",
              "    background-color: var(--hover-bg-color);\n",
              "    box-shadow: 0 1px 2px rgba(60, 64, 67, 0.3), 0 1px 3px 1px rgba(60, 64, 67, 0.15);\n",
              "    fill: var(--button-hover-fill-color);\n",
              "  }\n",
              "\n",
              "  .colab-df-quickchart-complete:disabled,\n",
              "  .colab-df-quickchart-complete:disabled:hover {\n",
              "    background-color: var(--disabled-bg-color);\n",
              "    fill: var(--disabled-fill-color);\n",
              "    box-shadow: none;\n",
              "  }\n",
              "\n",
              "  .colab-df-spinner {\n",
              "    border: 2px solid var(--fill-color);\n",
              "    border-color: transparent;\n",
              "    border-bottom-color: var(--fill-color);\n",
              "    animation:\n",
              "      spin 1s steps(1) infinite;\n",
              "  }\n",
              "\n",
              "  @keyframes spin {\n",
              "    0% {\n",
              "      border-color: transparent;\n",
              "      border-bottom-color: var(--fill-color);\n",
              "      border-left-color: var(--fill-color);\n",
              "    }\n",
              "    20% {\n",
              "      border-color: transparent;\n",
              "      border-left-color: var(--fill-color);\n",
              "      border-top-color: var(--fill-color);\n",
              "    }\n",
              "    30% {\n",
              "      border-color: transparent;\n",
              "      border-left-color: var(--fill-color);\n",
              "      border-top-color: var(--fill-color);\n",
              "      border-right-color: var(--fill-color);\n",
              "    }\n",
              "    40% {\n",
              "      border-color: transparent;\n",
              "      border-right-color: var(--fill-color);\n",
              "      border-top-color: var(--fill-color);\n",
              "    }\n",
              "    60% {\n",
              "      border-color: transparent;\n",
              "      border-right-color: var(--fill-color);\n",
              "    }\n",
              "    80% {\n",
              "      border-color: transparent;\n",
              "      border-right-color: var(--fill-color);\n",
              "      border-bottom-color: var(--fill-color);\n",
              "    }\n",
              "    90% {\n",
              "      border-color: transparent;\n",
              "      border-bottom-color: var(--fill-color);\n",
              "    }\n",
              "  }\n",
              "</style>\n",
              "\n",
              "  <script>\n",
              "    async function quickchart(key) {\n",
              "      const quickchartButtonEl =\n",
              "        document.querySelector('#' + key + ' button');\n",
              "      quickchartButtonEl.disabled = true;  // To prevent multiple clicks.\n",
              "      quickchartButtonEl.classList.add('colab-df-spinner');\n",
              "      try {\n",
              "        const charts = await google.colab.kernel.invokeFunction(\n",
              "            'suggestCharts', [key], {});\n",
              "      } catch (error) {\n",
              "        console.error('Error during call to suggestCharts:', error);\n",
              "      }\n",
              "      quickchartButtonEl.classList.remove('colab-df-spinner');\n",
              "      quickchartButtonEl.classList.add('colab-df-quickchart-complete');\n",
              "    }\n",
              "    (() => {\n",
              "      let quickchartButtonEl =\n",
              "        document.querySelector('#df-232a1bed-a657-4270-a97c-bfb00f6d4cfb button');\n",
              "      quickchartButtonEl.style.display =\n",
              "        google.colab.kernel.accessAllowed ? 'block' : 'none';\n",
              "    })();\n",
              "  </script>\n",
              "</div>\n",
              "\n",
              "    </div>\n",
              "  </div>\n"
            ],
            "application/vnd.google.colaboratory.intrinsic+json": {
              "type": "dataframe",
              "variable_name": "df",
              "summary": "{\n  \"name\": \"df\",\n  \"rows\": 50400,\n  \"fields\": [\n    {\n      \"column\": \"uid\",\n      \"properties\": {\n        \"dtype\": \"number\",\n        \"std\": 14549,\n        \"min\": 0,\n        \"max\": 50399,\n        \"num_unique_values\": 50400,\n        \"samples\": [\n          45078,\n          36590,\n          9430\n        ],\n        \"semantic_type\": \"\",\n        \"description\": \"\"\n      }\n    },\n    {\n      \"column\": \"day\",\n      \"properties\": {\n        \"dtype\": \"category\",\n        \"num_unique_values\": 2,\n        \"samples\": [\n          \"Friday\",\n          \"Saturday\"\n        ],\n        \"semantic_type\": \"\",\n        \"description\": \"\"\n      }\n    },\n    {\n      \"column\": \"hour\",\n      \"properties\": {\n        \"dtype\": \"number\",\n        \"std\": 6.03647814349629,\n        \"min\": 0.0,\n        \"max\": 23.0,\n        \"num_unique_values\": 24,\n        \"samples\": [\n          2.0,\n          16.0\n        ],\n        \"semantic_type\": \"\",\n        \"description\": \"\"\n      }\n    },\n    {\n      \"column\": \"minute\",\n      \"properties\": {\n        \"dtype\": \"number\",\n        \"std\": 17.29520931428135,\n        \"min\": 0.0,\n        \"max\": 59.0,\n        \"num_unique_values\": 60,\n        \"samples\": [\n          28.0,\n          51.0\n        ],\n        \"semantic_type\": \"\",\n        \"description\": \"\"\n      }\n    },\n    {\n      \"column\": \"C_motion\",\n      \"properties\": {\n        \"dtype\": \"number\",\n        \"std\": 84.04998507062611,\n        \"min\": 115.062730725,\n        \"max\": 1703.2359044399998,\n        \"num_unique_values\": 44432,\n        \"samples\": [\n          351.262764384,\n          210.417756173\n        ],\n        \"semantic_type\": \"\",\n        \"description\": \"\"\n      }\n    },\n    {\n      \"column\": \"feed_water_motion\",\n      \"properties\": {\n        \"dtype\": \"number\",\n        \"std\": 449.4434870711594,\n        \"min\": 1083.6832271067074,\n        \"max\": 2935.30536838133,\n        \"num_unique_values\": 44803,\n        \"samples\": [\n          2328.008664086681,\n          2495.2177920922704\n        ],\n        \"semantic_type\": \"\",\n        \"description\": \"\"\n      }\n    },\n    {\n      \"column\": \"faucet_hole\",\n      \"properties\": {\n        \"dtype\": \"number\",\n        \"std\": 0.011337776041761102,\n        \"min\": 0.6027731760563619,\n        \"max\": 0.6883946001914183,\n        \"num_unique_values\": 44831,\n        \"samples\": [\n          0.6654722017408323,\n          0.6866248372570911\n        ],\n        \"semantic_type\": \"\",\n        \"description\": \"\"\n      }\n    },\n    {\n      \"column\": \"vapour_pressure\",\n      \"properties\": {\n        \"dtype\": \"number\",\n        \"std\": 5.592781137520258,\n        \"min\": 9.273740476,\n        \"max\": 107.316072864,\n        \"num_unique_values\": 44015,\n        \"samples\": [\n          17.80500722,\n          26.353498171\n        ],\n        \"semantic_type\": \"\",\n        \"description\": \"\"\n      }\n    },\n    {\n      \"column\": \"vapour_enthalpy\",\n      \"properties\": {\n        \"dtype\": \"number\",\n        \"std\": 39.51088071305427,\n        \"min\": 2701.809455813,\n        \"max\": 2941.960616399,\n        \"num_unique_values\": 42616,\n        \"samples\": [\n          2816.221979752,\n          2784.703880268\n        ],\n        \"semantic_type\": \"\",\n        \"description\": \"\"\n      }\n    },\n    {\n      \"column\": \"vapour_pressure_at_division\",\n      \"properties\": {\n        \"dtype\": \"number\",\n        \"std\": 5.828594480668641,\n        \"min\": 9.7761999335,\n        \"max\": 113.17382075999998,\n        \"num_unique_values\": 44571,\n        \"samples\": [\n          28.148261140999995,\n          12.891229351\n        ],\n        \"semantic_type\": \"\",\n        \"description\": \"\"\n      }\n    },\n    {\n      \"column\": \"vapour_motion\",\n      \"properties\": {\n        \"dtype\": \"number\",\n        \"std\": 568.3889835802205,\n        \"min\": 1086.1396195649995,\n        \"max\": 11576.725316155998,\n        \"num_unique_values\": 44446,\n        \"samples\": [\n          1461.9917812499998,\n          2897.159402137\n        ],\n        \"semantic_type\": \"\",\n        \"description\": \"\"\n      }\n    },\n    {\n      \"column\": \"feed_water_enth\",\n      \"properties\": {\n        \"dtype\": \"number\",\n        \"std\": 259.3247823840466,\n        \"min\": 0.0,\n        \"max\": 5256.512004744,\n        \"num_unique_values\": 40616,\n        \"samples\": [\n          1257.55818188,\n          1264.495654422\n        ],\n        \"semantic_type\": \"\",\n        \"description\": \"\"\n      }\n    },\n    {\n      \"column\": \"vapour_temperature\",\n      \"properties\": {\n        \"dtype\": \"number\",\n        \"std\": 30.24962046807897,\n        \"min\": 468.259402478,\n        \"max\": 610.3791274009999,\n        \"num_unique_values\": 36377,\n        \"samples\": [\n          606.6940943679999,\n          526.841054777\n        ],\n        \"semantic_type\": \"\",\n        \"description\": \"\"\n      }\n    },\n    {\n      \"column\": \"output_electricity_generation\",\n      \"properties\": {\n        \"dtype\": \"number\",\n        \"std\": 175.08811278415763,\n        \"min\": 338.292910201,\n        \"max\": 1058.55826627,\n        \"num_unique_values\": 49200,\n        \"samples\": [\n          497.6706753869999,\n          884.0453263689999\n        ],\n        \"semantic_type\": \"\",\n        \"description\": \"\"\n      }\n    }\n  ]\n}"
            }
          },
          "metadata": {},
          "execution_count": 2
        }
      ]
    },
    {
      "cell_type": "code",
      "source": [
        "df.info()"
      ],
      "metadata": {
        "colab": {
          "base_uri": "https://localhost:8080/"
        },
        "id": "FuUzfYEVgOSj",
        "outputId": "dcd7c8df-237c-454a-ffba-2478fdd0ceb5"
      },
      "execution_count": 3,
      "outputs": [
        {
          "output_type": "stream",
          "name": "stdout",
          "text": [
            "<class 'pandas.core.frame.DataFrame'>\n",
            "RangeIndex: 50400 entries, 0 to 50399\n",
            "Data columns (total 14 columns):\n",
            " #   Column                         Non-Null Count  Dtype  \n",
            "---  ------                         --------------  -----  \n",
            " 0   uid                            50400 non-null  int64  \n",
            " 1   day                            44921 non-null  object \n",
            " 2   hour                           44787 non-null  float64\n",
            " 3   minute                         44930 non-null  float64\n",
            " 4   C_motion                       44883 non-null  float64\n",
            " 5   feed_water_motion              44803 non-null  float64\n",
            " 6   faucet_hole                    44834 non-null  float64\n",
            " 7   vapour_pressure                44921 non-null  float64\n",
            " 8   vapour_enthalpy                44963 non-null  float64\n",
            " 9   vapour_pressure_at_division    44923 non-null  float64\n",
            " 10  vapour_motion                  44923 non-null  float64\n",
            " 11  feed_water_enth                44904 non-null  float64\n",
            " 12  vapour_temperature             44883 non-null  float64\n",
            " 13  output_electricity_generation  50400 non-null  float64\n",
            "dtypes: float64(12), int64(1), object(1)\n",
            "memory usage: 5.4+ MB\n"
          ]
        }
      ]
    },
    {
      "cell_type": "code",
      "source": [
        "df.isna().sum()"
      ],
      "metadata": {
        "colab": {
          "base_uri": "https://localhost:8080/",
          "height": 523
        },
        "id": "0HyBqurWgWeh",
        "outputId": "45ae5779-30f1-419e-8a4c-4d77d6b10f0c"
      },
      "execution_count": 4,
      "outputs": [
        {
          "output_type": "execute_result",
          "data": {
            "text/plain": [
              "uid                                 0\n",
              "day                              5479\n",
              "hour                             5613\n",
              "minute                           5470\n",
              "C_motion                         5517\n",
              "feed_water_motion                5597\n",
              "faucet_hole                      5566\n",
              "vapour_pressure                  5479\n",
              "vapour_enthalpy                  5437\n",
              "vapour_pressure_at_division      5477\n",
              "vapour_motion                    5477\n",
              "feed_water_enth                  5496\n",
              "vapour_temperature               5517\n",
              "output_electricity_generation       0\n",
              "dtype: int64"
            ],
            "text/html": [
              "<div>\n",
              "<style scoped>\n",
              "    .dataframe tbody tr th:only-of-type {\n",
              "        vertical-align: middle;\n",
              "    }\n",
              "\n",
              "    .dataframe tbody tr th {\n",
              "        vertical-align: top;\n",
              "    }\n",
              "\n",
              "    .dataframe thead th {\n",
              "        text-align: right;\n",
              "    }\n",
              "</style>\n",
              "<table border=\"1\" class=\"dataframe\">\n",
              "  <thead>\n",
              "    <tr style=\"text-align: right;\">\n",
              "      <th></th>\n",
              "      <th>0</th>\n",
              "    </tr>\n",
              "  </thead>\n",
              "  <tbody>\n",
              "    <tr>\n",
              "      <th>uid</th>\n",
              "      <td>0</td>\n",
              "    </tr>\n",
              "    <tr>\n",
              "      <th>day</th>\n",
              "      <td>5479</td>\n",
              "    </tr>\n",
              "    <tr>\n",
              "      <th>hour</th>\n",
              "      <td>5613</td>\n",
              "    </tr>\n",
              "    <tr>\n",
              "      <th>minute</th>\n",
              "      <td>5470</td>\n",
              "    </tr>\n",
              "    <tr>\n",
              "      <th>C_motion</th>\n",
              "      <td>5517</td>\n",
              "    </tr>\n",
              "    <tr>\n",
              "      <th>feed_water_motion</th>\n",
              "      <td>5597</td>\n",
              "    </tr>\n",
              "    <tr>\n",
              "      <th>faucet_hole</th>\n",
              "      <td>5566</td>\n",
              "    </tr>\n",
              "    <tr>\n",
              "      <th>vapour_pressure</th>\n",
              "      <td>5479</td>\n",
              "    </tr>\n",
              "    <tr>\n",
              "      <th>vapour_enthalpy</th>\n",
              "      <td>5437</td>\n",
              "    </tr>\n",
              "    <tr>\n",
              "      <th>vapour_pressure_at_division</th>\n",
              "      <td>5477</td>\n",
              "    </tr>\n",
              "    <tr>\n",
              "      <th>vapour_motion</th>\n",
              "      <td>5477</td>\n",
              "    </tr>\n",
              "    <tr>\n",
              "      <th>feed_water_enth</th>\n",
              "      <td>5496</td>\n",
              "    </tr>\n",
              "    <tr>\n",
              "      <th>vapour_temperature</th>\n",
              "      <td>5517</td>\n",
              "    </tr>\n",
              "    <tr>\n",
              "      <th>output_electricity_generation</th>\n",
              "      <td>0</td>\n",
              "    </tr>\n",
              "  </tbody>\n",
              "</table>\n",
              "</div><br><label><b>dtype:</b> int64</label>"
            ]
          },
          "metadata": {},
          "execution_count": 4
        }
      ]
    },
    {
      "cell_type": "code",
      "source": [
        "import pandas as pd\n",
        "import numpy as np\n",
        "from xgboost import XGBRegressor\n",
        "from sklearn.experimental import enable_iterative_imputer\n",
        "from sklearn.impute import IterativeImputer\n",
        "from sklearn.preprocessing import LabelEncoder\n",
        "\n",
        "# Load your dataset (assuming df is already available)\n",
        "df = df.replace('?', np.nan)  # Replace '?' with NaN if needed\n",
        "\n",
        "# Convert 'day' categorical column into numerical format\n",
        "if df['day'].dtype == 'object':  # Ensure it's categorical before encoding\n",
        "    le = LabelEncoder()\n",
        "    df['day'] = le.fit_transform(df['day'])  # 'Friday' → 0, 'Saturday' → 1\n",
        "\n",
        "# Define the XGBoost imputer\n",
        "xgb_imputer = IterativeImputer(estimator=XGBRegressor(objective=\"reg:squarederror\", random_state=42),\n",
        "                               max_iter=10, initial_strategy=\"median\")\n",
        "\n",
        "# Apply imputation\n",
        "df_imputed = pd.DataFrame(xgb_imputer.fit_transform(df), columns=df.columns)\n",
        "\n",
        "# Ensure categorical column 'day' is rounded since it's categorical\n",
        "df_imputed['day'] = df_imputed['day'].round().astype(int)  # Assuming day should be an integer category\n",
        "\n",
        "# Print the count of remaining NaN values\n",
        "print(\"Missing values after imputation:\\n\", df_imputed.isna().sum())\n"
      ],
      "metadata": {
        "colab": {
          "base_uri": "https://localhost:8080/"
        },
        "id": "M8EYkrdbgcQf",
        "outputId": "6735e862-333d-4f13-d3a5-88c7170358e2"
      },
      "execution_count": 5,
      "outputs": [
        {
          "output_type": "stream",
          "name": "stdout",
          "text": [
            "Missing values after imputation:\n",
            " uid                              0\n",
            "day                              0\n",
            "hour                             0\n",
            "minute                           0\n",
            "C_motion                         0\n",
            "feed_water_motion                0\n",
            "faucet_hole                      0\n",
            "vapour_pressure                  0\n",
            "vapour_enthalpy                  0\n",
            "vapour_pressure_at_division      0\n",
            "vapour_motion                    0\n",
            "feed_water_enth                  0\n",
            "vapour_temperature               0\n",
            "output_electricity_generation    0\n",
            "dtype: int64\n"
          ]
        },
        {
          "output_type": "stream",
          "name": "stderr",
          "text": [
            "/usr/local/lib/python3.11/dist-packages/sklearn/impute/_iterative.py:895: ConvergenceWarning: [IterativeImputer] Early stopping criterion not reached.\n",
            "  warnings.warn(\n"
          ]
        }
      ]
    },
    {
      "cell_type": "code",
      "source": [
        "df.info()"
      ],
      "metadata": {
        "colab": {
          "base_uri": "https://localhost:8080/"
        },
        "id": "0ii66v8GkuYG",
        "outputId": "acd3df71-761b-4970-a07f-4a8ed4e1923f"
      },
      "execution_count": 6,
      "outputs": [
        {
          "output_type": "stream",
          "name": "stdout",
          "text": [
            "<class 'pandas.core.frame.DataFrame'>\n",
            "RangeIndex: 50400 entries, 0 to 50399\n",
            "Data columns (total 14 columns):\n",
            " #   Column                         Non-Null Count  Dtype  \n",
            "---  ------                         --------------  -----  \n",
            " 0   uid                            50400 non-null  int64  \n",
            " 1   day                            50400 non-null  int64  \n",
            " 2   hour                           44787 non-null  float64\n",
            " 3   minute                         44930 non-null  float64\n",
            " 4   C_motion                       44883 non-null  float64\n",
            " 5   feed_water_motion              44803 non-null  float64\n",
            " 6   faucet_hole                    44834 non-null  float64\n",
            " 7   vapour_pressure                44921 non-null  float64\n",
            " 8   vapour_enthalpy                44963 non-null  float64\n",
            " 9   vapour_pressure_at_division    44923 non-null  float64\n",
            " 10  vapour_motion                  44923 non-null  float64\n",
            " 11  feed_water_enth                44904 non-null  float64\n",
            " 12  vapour_temperature             44883 non-null  float64\n",
            " 13  output_electricity_generation  50400 non-null  float64\n",
            "dtypes: float64(12), int64(2)\n",
            "memory usage: 5.4 MB\n"
          ]
        }
      ]
    },
    {
      "cell_type": "code",
      "source": [
        "import warnings\n",
        "warnings.filterwarnings(\"ignore\")"
      ],
      "metadata": {
        "id": "FoZGHCmon59e"
      },
      "execution_count": 7,
      "outputs": []
    },
    {
      "cell_type": "code",
      "source": [
        "df.columns"
      ],
      "metadata": {
        "colab": {
          "base_uri": "https://localhost:8080/"
        },
        "id": "8qj8MJL_4hhA",
        "outputId": "1207d31e-6c2d-409e-8fa7-6b446bf9e136"
      },
      "execution_count": 8,
      "outputs": [
        {
          "output_type": "execute_result",
          "data": {
            "text/plain": [
              "Index(['uid', 'day', 'hour', 'minute', 'C_motion', 'feed_water_motion',\n",
              "       'faucet_hole', 'vapour_pressure', 'vapour_enthalpy',\n",
              "       'vapour_pressure_at_division', 'vapour_motion', 'feed_water_enth',\n",
              "       'vapour_temperature', 'output_electricity_generation'],\n",
              "      dtype='object')"
            ]
          },
          "metadata": {},
          "execution_count": 8
        }
      ]
    },
    {
      "cell_type": "code",
      "source": [
        "from sklearn.preprocessing import PolynomialFeatures, StandardScaler\n",
        "std_scaler = StandardScaler()\n",
        "scaled_feats = std_scaler.fit_transform(df_imputed)\n",
        "\n",
        "poly_feat_creator = PolynomialFeatures(degree=2, include_bias=False)\n",
        "poly_feat = poly_feat_creator.fit_transform(scaled_feats)"
      ],
      "metadata": {
        "id": "w9bLytlC4mYs"
      },
      "execution_count": 9,
      "outputs": []
    },
    {
      "cell_type": "code",
      "source": [
        "import pandas as pd\n",
        "import numpy as np\n",
        "from sklearn.preprocessing import PolynomialFeatures, StandardScaler, LabelEncoder\n",
        "\n",
        "# Separate features and target variable\n",
        "X = df_imputed.drop(columns=['output_electricity_generation', 'uid'])  # Drop ID and target\n",
        "y = df_imputed['output_electricity_generation']\n",
        "\n",
        "# Generate polynomial features (degree=2 for interactions, increase if needed)\n",
        "poly = PolynomialFeatures(degree=2, interaction_only=False, include_bias=False)\n",
        "X_poly = poly.fit_transform(X)\n",
        "\n",
        "# Scale the polynomial features\n",
        "scaler = StandardScaler()\n",
        "X_poly_scaled = scaler.fit_transform(X_poly)\n",
        "\n",
        "# Convert back to DataFrame\n",
        "poly_feature_names = poly.get_feature_names_out(X.columns)\n",
        "X_poly_df = pd.DataFrame(X_poly_scaled, columns=poly_feature_names)\n",
        "\n",
        "# Display transformed dataset\n",
        "print(\"Polynomial Features Shape:\", X_poly_df.shape)\n",
        "X_poly_df.head()"
      ],
      "metadata": {
        "colab": {
          "base_uri": "https://localhost:8080/",
          "height": 290
        },
        "id": "k8djM3I990CV",
        "outputId": "31cd114b-51d8-4c13-b122-4e9c0796aa42"
      },
      "execution_count": 10,
      "outputs": [
        {
          "output_type": "stream",
          "name": "stdout",
          "text": [
            "Polynomial Features Shape: (50400, 90)\n"
          ]
        },
        {
          "output_type": "execute_result",
          "data": {
            "text/plain": [
              "        day      hour    minute  C_motion  feed_water_motion  faucet_hole  \\\n",
              "0  0.477395 -0.812677 -1.225078  0.695218           0.875399     0.626077   \n",
              "1  0.477395  0.016909 -0.072483 -1.087803          -1.524991     0.745598   \n",
              "2 -1.042549  0.514661 -0.948984  0.108481           0.245445    -0.731957   \n",
              "3  0.477395  0.348743  0.708394 -0.894931          -1.489729     0.769477   \n",
              "4  0.477395  1.012412 -0.773684 -1.505578          -1.789193     1.331496   \n",
              "\n",
              "   vapour_pressure  vapour_enthalpy  vapour_pressure_at_division  \\\n",
              "0         0.584648        -0.715024                     0.596368   \n",
              "1        -1.185624         2.517054                    -1.187272   \n",
              "2         0.228687        -0.192690                     0.226271   \n",
              "3        -1.219219         0.352917                    -1.223935   \n",
              "4        -1.596664         0.305406                    -1.605083   \n",
              "\n",
              "   vapour_motion  ...  vapour_pressure_at_division^2  \\\n",
              "0       0.650875  ...                       0.317231   \n",
              "1      -1.240677  ...                      -0.699435   \n",
              "2       0.150723  ...                       0.065607   \n",
              "3      -1.210792  ...                      -0.715145   \n",
              "4      -1.441367  ...                      -0.866080   \n",
              "\n",
              "   vapour_pressure_at_division vapour_motion  \\\n",
              "0                                   0.339390   \n",
              "1                                  -0.714386   \n",
              "2                                   0.042956   \n",
              "3                                  -0.716013   \n",
              "4                                  -0.841610   \n",
              "\n",
              "   vapour_pressure_at_division feed_water_enth  \\\n",
              "0                                     0.214783   \n",
              "1                                    -0.511649   \n",
              "2                                     0.051544   \n",
              "3                                    -0.524401   \n",
              "4                                    -0.668745   \n",
              "\n",
              "   vapour_pressure_at_division vapour_temperature  vapour_motion^2  \\\n",
              "0                                        0.579047         0.351307   \n",
              "1                                       -1.066490        -0.711547   \n",
              "2                                        0.239584         0.018151   \n",
              "3                                       -1.163879        -0.698922   \n",
              "4                                       -1.817541        -0.792864   \n",
              "\n",
              "   vapour_motion feed_water_enth  vapour_motion vapour_temperature  \\\n",
              "0                       0.231401                          0.631243   \n",
              "1                      -0.520922                         -1.110711   \n",
              "2                       0.026459                          0.172097   \n",
              "3                      -0.513368                         -1.148337   \n",
              "4                      -0.612622                         -1.696607   \n",
              "\n",
              "   feed_water_enth^2  feed_water_enth vapour_temperature  vapour_temperature^2  \n",
              "0           0.072727                            0.264021              0.298786  \n",
              "1          -0.240710                           -0.259033              0.373957  \n",
              "2           0.002444                            0.153421              0.320155  \n",
              "3          -0.244764                           -0.372300             -0.161318  \n",
              "4          -0.330468                           -1.104076             -2.933083  \n",
              "\n",
              "[5 rows x 90 columns]"
            ],
            "text/html": [
              "\n",
              "  <div id=\"df-75898466-53df-4f4f-a573-e3d1ed3d4ec9\" class=\"colab-df-container\">\n",
              "    <div>\n",
              "<style scoped>\n",
              "    .dataframe tbody tr th:only-of-type {\n",
              "        vertical-align: middle;\n",
              "    }\n",
              "\n",
              "    .dataframe tbody tr th {\n",
              "        vertical-align: top;\n",
              "    }\n",
              "\n",
              "    .dataframe thead th {\n",
              "        text-align: right;\n",
              "    }\n",
              "</style>\n",
              "<table border=\"1\" class=\"dataframe\">\n",
              "  <thead>\n",
              "    <tr style=\"text-align: right;\">\n",
              "      <th></th>\n",
              "      <th>day</th>\n",
              "      <th>hour</th>\n",
              "      <th>minute</th>\n",
              "      <th>C_motion</th>\n",
              "      <th>feed_water_motion</th>\n",
              "      <th>faucet_hole</th>\n",
              "      <th>vapour_pressure</th>\n",
              "      <th>vapour_enthalpy</th>\n",
              "      <th>vapour_pressure_at_division</th>\n",
              "      <th>vapour_motion</th>\n",
              "      <th>...</th>\n",
              "      <th>vapour_pressure_at_division^2</th>\n",
              "      <th>vapour_pressure_at_division vapour_motion</th>\n",
              "      <th>vapour_pressure_at_division feed_water_enth</th>\n",
              "      <th>vapour_pressure_at_division vapour_temperature</th>\n",
              "      <th>vapour_motion^2</th>\n",
              "      <th>vapour_motion feed_water_enth</th>\n",
              "      <th>vapour_motion vapour_temperature</th>\n",
              "      <th>feed_water_enth^2</th>\n",
              "      <th>feed_water_enth vapour_temperature</th>\n",
              "      <th>vapour_temperature^2</th>\n",
              "    </tr>\n",
              "  </thead>\n",
              "  <tbody>\n",
              "    <tr>\n",
              "      <th>0</th>\n",
              "      <td>0.477395</td>\n",
              "      <td>-0.812677</td>\n",
              "      <td>-1.225078</td>\n",
              "      <td>0.695218</td>\n",
              "      <td>0.875399</td>\n",
              "      <td>0.626077</td>\n",
              "      <td>0.584648</td>\n",
              "      <td>-0.715024</td>\n",
              "      <td>0.596368</td>\n",
              "      <td>0.650875</td>\n",
              "      <td>...</td>\n",
              "      <td>0.317231</td>\n",
              "      <td>0.339390</td>\n",
              "      <td>0.214783</td>\n",
              "      <td>0.579047</td>\n",
              "      <td>0.351307</td>\n",
              "      <td>0.231401</td>\n",
              "      <td>0.631243</td>\n",
              "      <td>0.072727</td>\n",
              "      <td>0.264021</td>\n",
              "      <td>0.298786</td>\n",
              "    </tr>\n",
              "    <tr>\n",
              "      <th>1</th>\n",
              "      <td>0.477395</td>\n",
              "      <td>0.016909</td>\n",
              "      <td>-0.072483</td>\n",
              "      <td>-1.087803</td>\n",
              "      <td>-1.524991</td>\n",
              "      <td>0.745598</td>\n",
              "      <td>-1.185624</td>\n",
              "      <td>2.517054</td>\n",
              "      <td>-1.187272</td>\n",
              "      <td>-1.240677</td>\n",
              "      <td>...</td>\n",
              "      <td>-0.699435</td>\n",
              "      <td>-0.714386</td>\n",
              "      <td>-0.511649</td>\n",
              "      <td>-1.066490</td>\n",
              "      <td>-0.711547</td>\n",
              "      <td>-0.520922</td>\n",
              "      <td>-1.110711</td>\n",
              "      <td>-0.240710</td>\n",
              "      <td>-0.259033</td>\n",
              "      <td>0.373957</td>\n",
              "    </tr>\n",
              "    <tr>\n",
              "      <th>2</th>\n",
              "      <td>-1.042549</td>\n",
              "      <td>0.514661</td>\n",
              "      <td>-0.948984</td>\n",
              "      <td>0.108481</td>\n",
              "      <td>0.245445</td>\n",
              "      <td>-0.731957</td>\n",
              "      <td>0.228687</td>\n",
              "      <td>-0.192690</td>\n",
              "      <td>0.226271</td>\n",
              "      <td>0.150723</td>\n",
              "      <td>...</td>\n",
              "      <td>0.065607</td>\n",
              "      <td>0.042956</td>\n",
              "      <td>0.051544</td>\n",
              "      <td>0.239584</td>\n",
              "      <td>0.018151</td>\n",
              "      <td>0.026459</td>\n",
              "      <td>0.172097</td>\n",
              "      <td>0.002444</td>\n",
              "      <td>0.153421</td>\n",
              "      <td>0.320155</td>\n",
              "    </tr>\n",
              "    <tr>\n",
              "      <th>3</th>\n",
              "      <td>0.477395</td>\n",
              "      <td>0.348743</td>\n",
              "      <td>0.708394</td>\n",
              "      <td>-0.894931</td>\n",
              "      <td>-1.489729</td>\n",
              "      <td>0.769477</td>\n",
              "      <td>-1.219219</td>\n",
              "      <td>0.352917</td>\n",
              "      <td>-1.223935</td>\n",
              "      <td>-1.210792</td>\n",
              "      <td>...</td>\n",
              "      <td>-0.715145</td>\n",
              "      <td>-0.716013</td>\n",
              "      <td>-0.524401</td>\n",
              "      <td>-1.163879</td>\n",
              "      <td>-0.698922</td>\n",
              "      <td>-0.513368</td>\n",
              "      <td>-1.148337</td>\n",
              "      <td>-0.244764</td>\n",
              "      <td>-0.372300</td>\n",
              "      <td>-0.161318</td>\n",
              "    </tr>\n",
              "    <tr>\n",
              "      <th>4</th>\n",
              "      <td>0.477395</td>\n",
              "      <td>1.012412</td>\n",
              "      <td>-0.773684</td>\n",
              "      <td>-1.505578</td>\n",
              "      <td>-1.789193</td>\n",
              "      <td>1.331496</td>\n",
              "      <td>-1.596664</td>\n",
              "      <td>0.305406</td>\n",
              "      <td>-1.605083</td>\n",
              "      <td>-1.441367</td>\n",
              "      <td>...</td>\n",
              "      <td>-0.866080</td>\n",
              "      <td>-0.841610</td>\n",
              "      <td>-0.668745</td>\n",
              "      <td>-1.817541</td>\n",
              "      <td>-0.792864</td>\n",
              "      <td>-0.612622</td>\n",
              "      <td>-1.696607</td>\n",
              "      <td>-0.330468</td>\n",
              "      <td>-1.104076</td>\n",
              "      <td>-2.933083</td>\n",
              "    </tr>\n",
              "  </tbody>\n",
              "</table>\n",
              "<p>5 rows × 90 columns</p>\n",
              "</div>\n",
              "    <div class=\"colab-df-buttons\">\n",
              "\n",
              "  <div class=\"colab-df-container\">\n",
              "    <button class=\"colab-df-convert\" onclick=\"convertToInteractive('df-75898466-53df-4f4f-a573-e3d1ed3d4ec9')\"\n",
              "            title=\"Convert this dataframe to an interactive table.\"\n",
              "            style=\"display:none;\">\n",
              "\n",
              "  <svg xmlns=\"http://www.w3.org/2000/svg\" height=\"24px\" viewBox=\"0 -960 960 960\">\n",
              "    <path d=\"M120-120v-720h720v720H120Zm60-500h600v-160H180v160Zm220 220h160v-160H400v160Zm0 220h160v-160H400v160ZM180-400h160v-160H180v160Zm440 0h160v-160H620v160ZM180-180h160v-160H180v160Zm440 0h160v-160H620v160Z\"/>\n",
              "  </svg>\n",
              "    </button>\n",
              "\n",
              "  <style>\n",
              "    .colab-df-container {\n",
              "      display:flex;\n",
              "      gap: 12px;\n",
              "    }\n",
              "\n",
              "    .colab-df-convert {\n",
              "      background-color: #E8F0FE;\n",
              "      border: none;\n",
              "      border-radius: 50%;\n",
              "      cursor: pointer;\n",
              "      display: none;\n",
              "      fill: #1967D2;\n",
              "      height: 32px;\n",
              "      padding: 0 0 0 0;\n",
              "      width: 32px;\n",
              "    }\n",
              "\n",
              "    .colab-df-convert:hover {\n",
              "      background-color: #E2EBFA;\n",
              "      box-shadow: 0px 1px 2px rgba(60, 64, 67, 0.3), 0px 1px 3px 1px rgba(60, 64, 67, 0.15);\n",
              "      fill: #174EA6;\n",
              "    }\n",
              "\n",
              "    .colab-df-buttons div {\n",
              "      margin-bottom: 4px;\n",
              "    }\n",
              "\n",
              "    [theme=dark] .colab-df-convert {\n",
              "      background-color: #3B4455;\n",
              "      fill: #D2E3FC;\n",
              "    }\n",
              "\n",
              "    [theme=dark] .colab-df-convert:hover {\n",
              "      background-color: #434B5C;\n",
              "      box-shadow: 0px 1px 3px 1px rgba(0, 0, 0, 0.15);\n",
              "      filter: drop-shadow(0px 1px 2px rgba(0, 0, 0, 0.3));\n",
              "      fill: #FFFFFF;\n",
              "    }\n",
              "  </style>\n",
              "\n",
              "    <script>\n",
              "      const buttonEl =\n",
              "        document.querySelector('#df-75898466-53df-4f4f-a573-e3d1ed3d4ec9 button.colab-df-convert');\n",
              "      buttonEl.style.display =\n",
              "        google.colab.kernel.accessAllowed ? 'block' : 'none';\n",
              "\n",
              "      async function convertToInteractive(key) {\n",
              "        const element = document.querySelector('#df-75898466-53df-4f4f-a573-e3d1ed3d4ec9');\n",
              "        const dataTable =\n",
              "          await google.colab.kernel.invokeFunction('convertToInteractive',\n",
              "                                                    [key], {});\n",
              "        if (!dataTable) return;\n",
              "\n",
              "        const docLinkHtml = 'Like what you see? Visit the ' +\n",
              "          '<a target=\"_blank\" href=https://colab.research.google.com/notebooks/data_table.ipynb>data table notebook</a>'\n",
              "          + ' to learn more about interactive tables.';\n",
              "        element.innerHTML = '';\n",
              "        dataTable['output_type'] = 'display_data';\n",
              "        await google.colab.output.renderOutput(dataTable, element);\n",
              "        const docLink = document.createElement('div');\n",
              "        docLink.innerHTML = docLinkHtml;\n",
              "        element.appendChild(docLink);\n",
              "      }\n",
              "    </script>\n",
              "  </div>\n",
              "\n",
              "\n",
              "<div id=\"df-a7e4b448-38a8-4d1c-a895-a265f4f508f1\">\n",
              "  <button class=\"colab-df-quickchart\" onclick=\"quickchart('df-a7e4b448-38a8-4d1c-a895-a265f4f508f1')\"\n",
              "            title=\"Suggest charts\"\n",
              "            style=\"display:none;\">\n",
              "\n",
              "<svg xmlns=\"http://www.w3.org/2000/svg\" height=\"24px\"viewBox=\"0 0 24 24\"\n",
              "     width=\"24px\">\n",
              "    <g>\n",
              "        <path d=\"M19 3H5c-1.1 0-2 .9-2 2v14c0 1.1.9 2 2 2h14c1.1 0 2-.9 2-2V5c0-1.1-.9-2-2-2zM9 17H7v-7h2v7zm4 0h-2V7h2v10zm4 0h-2v-4h2v4z\"/>\n",
              "    </g>\n",
              "</svg>\n",
              "  </button>\n",
              "\n",
              "<style>\n",
              "  .colab-df-quickchart {\n",
              "      --bg-color: #E8F0FE;\n",
              "      --fill-color: #1967D2;\n",
              "      --hover-bg-color: #E2EBFA;\n",
              "      --hover-fill-color: #174EA6;\n",
              "      --disabled-fill-color: #AAA;\n",
              "      --disabled-bg-color: #DDD;\n",
              "  }\n",
              "\n",
              "  [theme=dark] .colab-df-quickchart {\n",
              "      --bg-color: #3B4455;\n",
              "      --fill-color: #D2E3FC;\n",
              "      --hover-bg-color: #434B5C;\n",
              "      --hover-fill-color: #FFFFFF;\n",
              "      --disabled-bg-color: #3B4455;\n",
              "      --disabled-fill-color: #666;\n",
              "  }\n",
              "\n",
              "  .colab-df-quickchart {\n",
              "    background-color: var(--bg-color);\n",
              "    border: none;\n",
              "    border-radius: 50%;\n",
              "    cursor: pointer;\n",
              "    display: none;\n",
              "    fill: var(--fill-color);\n",
              "    height: 32px;\n",
              "    padding: 0;\n",
              "    width: 32px;\n",
              "  }\n",
              "\n",
              "  .colab-df-quickchart:hover {\n",
              "    background-color: var(--hover-bg-color);\n",
              "    box-shadow: 0 1px 2px rgba(60, 64, 67, 0.3), 0 1px 3px 1px rgba(60, 64, 67, 0.15);\n",
              "    fill: var(--button-hover-fill-color);\n",
              "  }\n",
              "\n",
              "  .colab-df-quickchart-complete:disabled,\n",
              "  .colab-df-quickchart-complete:disabled:hover {\n",
              "    background-color: var(--disabled-bg-color);\n",
              "    fill: var(--disabled-fill-color);\n",
              "    box-shadow: none;\n",
              "  }\n",
              "\n",
              "  .colab-df-spinner {\n",
              "    border: 2px solid var(--fill-color);\n",
              "    border-color: transparent;\n",
              "    border-bottom-color: var(--fill-color);\n",
              "    animation:\n",
              "      spin 1s steps(1) infinite;\n",
              "  }\n",
              "\n",
              "  @keyframes spin {\n",
              "    0% {\n",
              "      border-color: transparent;\n",
              "      border-bottom-color: var(--fill-color);\n",
              "      border-left-color: var(--fill-color);\n",
              "    }\n",
              "    20% {\n",
              "      border-color: transparent;\n",
              "      border-left-color: var(--fill-color);\n",
              "      border-top-color: var(--fill-color);\n",
              "    }\n",
              "    30% {\n",
              "      border-color: transparent;\n",
              "      border-left-color: var(--fill-color);\n",
              "      border-top-color: var(--fill-color);\n",
              "      border-right-color: var(--fill-color);\n",
              "    }\n",
              "    40% {\n",
              "      border-color: transparent;\n",
              "      border-right-color: var(--fill-color);\n",
              "      border-top-color: var(--fill-color);\n",
              "    }\n",
              "    60% {\n",
              "      border-color: transparent;\n",
              "      border-right-color: var(--fill-color);\n",
              "    }\n",
              "    80% {\n",
              "      border-color: transparent;\n",
              "      border-right-color: var(--fill-color);\n",
              "      border-bottom-color: var(--fill-color);\n",
              "    }\n",
              "    90% {\n",
              "      border-color: transparent;\n",
              "      border-bottom-color: var(--fill-color);\n",
              "    }\n",
              "  }\n",
              "</style>\n",
              "\n",
              "  <script>\n",
              "    async function quickchart(key) {\n",
              "      const quickchartButtonEl =\n",
              "        document.querySelector('#' + key + ' button');\n",
              "      quickchartButtonEl.disabled = true;  // To prevent multiple clicks.\n",
              "      quickchartButtonEl.classList.add('colab-df-spinner');\n",
              "      try {\n",
              "        const charts = await google.colab.kernel.invokeFunction(\n",
              "            'suggestCharts', [key], {});\n",
              "      } catch (error) {\n",
              "        console.error('Error during call to suggestCharts:', error);\n",
              "      }\n",
              "      quickchartButtonEl.classList.remove('colab-df-spinner');\n",
              "      quickchartButtonEl.classList.add('colab-df-quickchart-complete');\n",
              "    }\n",
              "    (() => {\n",
              "      let quickchartButtonEl =\n",
              "        document.querySelector('#df-a7e4b448-38a8-4d1c-a895-a265f4f508f1 button');\n",
              "      quickchartButtonEl.style.display =\n",
              "        google.colab.kernel.accessAllowed ? 'block' : 'none';\n",
              "    })();\n",
              "  </script>\n",
              "</div>\n",
              "\n",
              "    </div>\n",
              "  </div>\n"
            ],
            "application/vnd.google.colaboratory.intrinsic+json": {
              "type": "dataframe",
              "variable_name": "X_poly_df"
            }
          },
          "metadata": {},
          "execution_count": 10
        }
      ]
    },
    {
      "cell_type": "code",
      "source": [
        "X_poly_df.columns"
      ],
      "metadata": {
        "colab": {
          "base_uri": "https://localhost:8080/"
        },
        "id": "q-FOM7Rs-9Kx",
        "outputId": "3d2f5a2d-779d-474b-99ca-b8ef0427bfba"
      },
      "execution_count": 11,
      "outputs": [
        {
          "output_type": "execute_result",
          "data": {
            "text/plain": [
              "Index(['day', 'hour', 'minute', 'C_motion', 'feed_water_motion', 'faucet_hole',\n",
              "       'vapour_pressure', 'vapour_enthalpy', 'vapour_pressure_at_division',\n",
              "       'vapour_motion', 'feed_water_enth', 'vapour_temperature', 'day^2',\n",
              "       'day hour', 'day minute', 'day C_motion', 'day feed_water_motion',\n",
              "       'day faucet_hole', 'day vapour_pressure', 'day vapour_enthalpy',\n",
              "       'day vapour_pressure_at_division', 'day vapour_motion',\n",
              "       'day feed_water_enth', 'day vapour_temperature', 'hour^2',\n",
              "       'hour minute', 'hour C_motion', 'hour feed_water_motion',\n",
              "       'hour faucet_hole', 'hour vapour_pressure', 'hour vapour_enthalpy',\n",
              "       'hour vapour_pressure_at_division', 'hour vapour_motion',\n",
              "       'hour feed_water_enth', 'hour vapour_temperature', 'minute^2',\n",
              "       'minute C_motion', 'minute feed_water_motion', 'minute faucet_hole',\n",
              "       'minute vapour_pressure', 'minute vapour_enthalpy',\n",
              "       'minute vapour_pressure_at_division', 'minute vapour_motion',\n",
              "       'minute feed_water_enth', 'minute vapour_temperature', 'C_motion^2',\n",
              "       'C_motion feed_water_motion', 'C_motion faucet_hole',\n",
              "       'C_motion vapour_pressure', 'C_motion vapour_enthalpy',\n",
              "       'C_motion vapour_pressure_at_division', 'C_motion vapour_motion',\n",
              "       'C_motion feed_water_enth', 'C_motion vapour_temperature',\n",
              "       'feed_water_motion^2', 'feed_water_motion faucet_hole',\n",
              "       'feed_water_motion vapour_pressure',\n",
              "       'feed_water_motion vapour_enthalpy',\n",
              "       'feed_water_motion vapour_pressure_at_division',\n",
              "       'feed_water_motion vapour_motion', 'feed_water_motion feed_water_enth',\n",
              "       'feed_water_motion vapour_temperature', 'faucet_hole^2',\n",
              "       'faucet_hole vapour_pressure', 'faucet_hole vapour_enthalpy',\n",
              "       'faucet_hole vapour_pressure_at_division', 'faucet_hole vapour_motion',\n",
              "       'faucet_hole feed_water_enth', 'faucet_hole vapour_temperature',\n",
              "       'vapour_pressure^2', 'vapour_pressure vapour_enthalpy',\n",
              "       'vapour_pressure vapour_pressure_at_division',\n",
              "       'vapour_pressure vapour_motion', 'vapour_pressure feed_water_enth',\n",
              "       'vapour_pressure vapour_temperature', 'vapour_enthalpy^2',\n",
              "       'vapour_enthalpy vapour_pressure_at_division',\n",
              "       'vapour_enthalpy vapour_motion', 'vapour_enthalpy feed_water_enth',\n",
              "       'vapour_enthalpy vapour_temperature', 'vapour_pressure_at_division^2',\n",
              "       'vapour_pressure_at_division vapour_motion',\n",
              "       'vapour_pressure_at_division feed_water_enth',\n",
              "       'vapour_pressure_at_division vapour_temperature', 'vapour_motion^2',\n",
              "       'vapour_motion feed_water_enth', 'vapour_motion vapour_temperature',\n",
              "       'feed_water_enth^2', 'feed_water_enth vapour_temperature',\n",
              "       'vapour_temperature^2'],\n",
              "      dtype='object')"
            ]
          },
          "metadata": {},
          "execution_count": 11
        }
      ]
    },
    {
      "cell_type": "code",
      "source": [
        "#XGBoost without any Dimensionality reduction\n",
        "\n",
        "import xgboost as xgb\n",
        "from sklearn.model_selection import train_test_split\n",
        "from sklearn.metrics import mean_squared_error\n",
        "import numpy as np\n",
        "\n",
        "# Split data into train and test sets\n",
        "X_train, X_test, y_train, y_test = train_test_split(X_poly_df, y, test_size=0.2, random_state=42)\n",
        "\n",
        "# Initialize XGBoost Regressor\n",
        "xgb_model = xgb.XGBRegressor(\n",
        "    objective=\"reg:squarederror\",\n",
        "    n_estimators=100,\n",
        "    learning_rate=0.1,\n",
        "    max_depth=6,\n",
        "    random_state=42\n",
        ")\n",
        "\n",
        "# Train the model\n",
        "xgb_model.fit(X_train, y_train)\n",
        "\n",
        "# Make predictions\n",
        "y_pred = xgb_model.predict(X_test)\n",
        "\n",
        "# Evaluate performance using RMSE\n",
        "rmse = np.sqrt(mean_squared_error(y_test, y_pred))\n",
        "print(f\"Test RMSE: {rmse:.4f}\")\n"
      ],
      "metadata": {
        "id": "a15-KTqz_dQS",
        "colab": {
          "base_uri": "https://localhost:8080/"
        },
        "outputId": "3ccd28f1-2ec8-4fad-ef9c-dae84dba7670"
      },
      "execution_count": 13,
      "outputs": [
        {
          "output_type": "stream",
          "name": "stdout",
          "text": [
            "Test RMSE: 1.3107\n"
          ]
        }
      ]
    },
    {
      "cell_type": "code",
      "source": [
        "#XGBoost with PCA\n",
        "\n",
        "from sklearn.decomposition import PCA\n",
        "from sklearn.model_selection import train_test_split\n",
        "from sklearn.metrics import mean_squared_error\n",
        "import xgboost as xgb\n",
        "\n",
        "# Apply PCA\n",
        "n_components = 10  # Adjust based on explained variance\n",
        "pca = PCA(n_components=n_components)\n",
        "X_pca = pca.fit_transform(X_poly_df)\n",
        "\n",
        "# Split the PCA-transformed data\n",
        "X_train, X_test, y_train, y_test = train_test_split(X_pca, y, test_size=0.2, random_state=42)\n",
        "\n",
        "# Initialize XGBoost Regressor\n",
        "xgb_model = xgb.XGBRegressor(\n",
        "    objective=\"reg:squarederror\",\n",
        "    n_estimators=100,\n",
        "    learning_rate=0.1,\n",
        "    max_depth=6,\n",
        "    random_state=42\n",
        ")\n",
        "\n",
        "# Train the model\n",
        "xgb_model.fit(X_train, y_train)\n",
        "\n",
        "# Make predictions\n",
        "y_pred = xgb_model.predict(X_test)\n",
        "\n",
        "# Evaluate performance using RMSE\n",
        "rmse = np.sqrt(mean_squared_error(y_test, y_pred))\n",
        "print(f\"Test RMSE after PCA: {rmse:.4f}\")\n",
        "\n",
        "# Check explained variance to understand how much data is retained\n",
        "explained_variance = sum(pca.explained_variance_ratio_) * 100\n",
        "print(f\"Explained Variance with {n_components} components: {explained_variance:.2f}%\")\n"
      ],
      "metadata": {
        "colab": {
          "base_uri": "https://localhost:8080/"
        },
        "id": "dUmYTHG-QO91",
        "outputId": "216b1a63-58b6-444a-bfc2-751bdb466176"
      },
      "execution_count": 15,
      "outputs": [
        {
          "output_type": "stream",
          "name": "stdout",
          "text": [
            "Test RMSE after PCA: 4.2838\n",
            "Explained Variance with 10 components: 98.81%\n"
          ]
        }
      ]
    },
    {
      "cell_type": "code",
      "source": [
        "#XGBoost with Variance Thresholding\n",
        "\n",
        "from sklearn.feature_selection import VarianceThreshold\n",
        "from sklearn.model_selection import train_test_split\n",
        "from sklearn.metrics import mean_squared_error\n",
        "import xgboost as xgb\n",
        "\n",
        "# Apply Variance Thresholding\n",
        "threshold = 0.01  # Set a variance threshold, can be adjusted\n",
        "selector = VarianceThreshold(threshold=threshold)\n",
        "X_var = selector.fit_transform(X_poly_df)\n",
        "\n",
        "# Get selected feature names\n",
        "selected_features = X_poly_df.columns[selector.get_support()]\n",
        "print(f\"Selected {len(selected_features)} features after Variance Thresholding\")\n",
        "\n",
        "# Split the dataset\n",
        "X_train, X_test, y_train, y_test = train_test_split(X_var, y, test_size=0.2, random_state=42)\n",
        "\n",
        "# Initialize XGBoost Regressor\n",
        "xgb_model = xgb.XGBRegressor(\n",
        "    objective=\"reg:squarederror\",\n",
        "    n_estimators=100,\n",
        "    learning_rate=0.1,\n",
        "    max_depth=6,\n",
        "    random_state=42\n",
        ")\n",
        "\n",
        "# Train the model\n",
        "xgb_model.fit(X_train, y_train)\n",
        "\n",
        "# Make predictions\n",
        "y_pred = xgb_model.predict(X_test)\n",
        "\n",
        "# Evaluate performance using RMSE\n",
        "rmse = np.sqrt(mean_squared_error(y_test, y_pred))\n",
        "print(f\"Test RMSE after Variance Thresholding: {rmse:.4f}\")\n"
      ],
      "metadata": {
        "colab": {
          "base_uri": "https://localhost:8080/"
        },
        "id": "Z_P5HhHXQt8t",
        "outputId": "9e74307d-23f7-47ff-9200-7222bca164f9"
      },
      "execution_count": 17,
      "outputs": [
        {
          "output_type": "stream",
          "name": "stdout",
          "text": [
            "Selected 90 features after Variance Thresholding\n",
            "Test RMSE after Variance Thresholding: 1.3107\n"
          ]
        }
      ]
    },
    {
      "cell_type": "code",
      "source": [
        "#XGBoost with Correlation based Filtering\n",
        "\n",
        "\n",
        "import numpy as np\n",
        "import pandas as pd\n",
        "import xgboost as xgb\n",
        "from sklearn.model_selection import train_test_split\n",
        "from sklearn.metrics import mean_squared_error\n",
        "\n",
        "# Compute the correlation matrix\n",
        "correlation_matrix = X_poly_df.corr().abs()\n",
        "\n",
        "# Set a threshold for correlation (e.g., 0.85)\n",
        "corr_threshold = 0.85\n",
        "\n",
        "# Identify highly correlated features\n",
        "upper_triangle = correlation_matrix.where(np.triu(np.ones(correlation_matrix.shape), k=1).astype(bool))\n",
        "to_drop = [column for column in upper_triangle.columns if any(upper_triangle[column] > corr_threshold)]\n",
        "\n",
        "# Drop highly correlated features\n",
        "X_corr_filtered = X_poly_df.drop(columns=to_drop)\n",
        "print(f\"Removed {len(to_drop)} highly correlated features\")\n",
        "\n",
        "# Split dataset into training and testing\n",
        "X_train, X_test, y_train, y_test = train_test_split(X_corr_filtered, y, test_size=0.2, random_state=42)\n",
        "\n",
        "# Initialize and train XGBoost model\n",
        "xgb_model = xgb.XGBRegressor(\n",
        "    objective=\"reg:squarederror\",\n",
        "    n_estimators=100,\n",
        "    learning_rate=0.1,\n",
        "    max_depth=6,\n",
        "    random_state=42\n",
        ")\n",
        "\n",
        "xgb_model.fit(X_train, y_train)\n",
        "\n",
        "# Make predictions\n",
        "y_pred = xgb_model.predict(X_test)\n",
        "\n",
        "# Evaluate model performance\n",
        "rmse = np.sqrt(mean_squared_error(y_test, y_pred))\n",
        "print(f\"Test RMSE after Correlation Filtering: {rmse:.4f}\")\n"
      ],
      "metadata": {
        "colab": {
          "base_uri": "https://localhost:8080/"
        },
        "id": "NYy-DWWNT_Zy",
        "outputId": "4141a525-db34-42ee-d423-d3a3a6fd7545"
      },
      "execution_count": 25,
      "outputs": [
        {
          "output_type": "stream",
          "name": "stdout",
          "text": [
            "Removed 76 highly correlated features\n",
            "Test RMSE after Correlation Filtering: 1.5277\n"
          ]
        }
      ]
    },
    {
      "cell_type": "code",
      "source": [
        "#XGBoost with ANOVA\n",
        "\n",
        "from sklearn.feature_selection import f_regression, SelectKBest\n",
        "from sklearn.model_selection import train_test_split\n",
        "from sklearn.metrics import mean_squared_error\n",
        "import xgboost as xgb\n",
        "\n",
        "# Apply ANOVA F-test feature selection\n",
        "k_best = 10  # Number of top features to keep, adjust as needed\n",
        "anova_selector = SelectKBest(score_func=f_regression, k=k_best)\n",
        "X_anova = anova_selector.fit_transform(X_poly_df, y)\n",
        "\n",
        "# Get selected feature names\n",
        "selected_features = X_poly_df.columns[anova_selector.get_support()]\n",
        "print(f\"Selected {len(selected_features)} features using ANOVA\")\n",
        "\n",
        "# Split the dataset\n",
        "X_train, X_test, y_train, y_test = train_test_split(X_anova, y, test_size=0.2, random_state=42)\n",
        "\n",
        "# Initialize XGBoost Regressor\n",
        "xgb_model = xgb.XGBRegressor(\n",
        "    objective=\"reg:squarederror\",\n",
        "    n_estimators=100,\n",
        "    learning_rate=0.1,\n",
        "    max_depth=6,\n",
        "    random_state=42\n",
        ")\n",
        "\n",
        "# Train the model\n",
        "xgb_model.fit(X_train, y_train)\n",
        "\n",
        "# Make predictions\n",
        "y_pred = xgb_model.predict(X_test)\n",
        "\n",
        "# Evaluate performance using RMSE\n",
        "rmse = np.sqrt(mean_squared_error(y_test, y_pred))\n",
        "print(f\"Test RMSE after ANOVA Feature Selection: {rmse:.4f}\")\n"
      ],
      "metadata": {
        "colab": {
          "base_uri": "https://localhost:8080/"
        },
        "id": "WXQEidFURTIj",
        "outputId": "a94d1483-ffd8-49b2-e5aa-bdce286381e0"
      },
      "execution_count": 19,
      "outputs": [
        {
          "output_type": "stream",
          "name": "stdout",
          "text": [
            "Selected 10 features using ANOVA\n",
            "Test RMSE after ANOVA Feature Selection: 2.4314\n"
          ]
        }
      ]
    },
    {
      "cell_type": "code",
      "source": [
        "#XGBoost with MI\n",
        "\n",
        "from sklearn.feature_selection import mutual_info_regression, SelectKBest\n",
        "from sklearn.model_selection import train_test_split\n",
        "from sklearn.metrics import mean_squared_error\n",
        "import xgboost as xgb\n",
        "\n",
        "# Apply Mutual Information feature selection\n",
        "k_best = 10  # Select top k features, adjust as needed\n",
        "mi_selector = SelectKBest(score_func=mutual_info_regression, k=k_best)\n",
        "X_mi = mi_selector.fit_transform(X_poly_df, y)\n",
        "\n",
        "# Get selected feature names\n",
        "selected_features = X_poly_df.columns[mi_selector.get_support()]\n",
        "print(f\"Selected {len(selected_features)} features using Mutual Information\")\n",
        "\n",
        "# Split dataset into training and testing\n",
        "X_train, X_test, y_train, y_test = train_test_split(X_mi, y, test_size=0.2, random_state=42)\n",
        "\n",
        "# Initialize XGBoost Regressor\n",
        "xgb_model = xgb.XGBRegressor(\n",
        "    objective=\"reg:squarederror\",\n",
        "    n_estimators=100,\n",
        "    learning_rate=0.1,\n",
        "    max_depth=6,\n",
        "    random_state=42\n",
        ")\n",
        "\n",
        "# Train the model\n",
        "xgb_model.fit(X_train, y_train)\n",
        "\n",
        "# Make predictions\n",
        "y_pred = xgb_model.predict(X_test)\n",
        "\n",
        "# Evaluate model performance\n",
        "rmse = np.sqrt(mean_squared_error(y_test, y_pred))\n",
        "print(f\"Test RMSE after Mutual Information Feature Selection: {rmse:.4f}\")\n"
      ],
      "metadata": {
        "colab": {
          "base_uri": "https://localhost:8080/"
        },
        "id": "3fyjLlxoRpL3",
        "outputId": "ae9432c0-5b7f-4619-a1c1-0841bb052b3a"
      },
      "execution_count": 21,
      "outputs": [
        {
          "output_type": "stream",
          "name": "stdout",
          "text": [
            "Selected 10 features using Mutual Information\n",
            "Test RMSE after Mutual Information Feature Selection: 7.5162\n"
          ]
        }
      ]
    },
    {
      "cell_type": "code",
      "source": [
        "#XGBoost with greedy selection\n",
        "\n",
        "from sklearn.feature_selection import RFE\n",
        "from sklearn.model_selection import train_test_split\n",
        "from sklearn.metrics import mean_squared_error\n",
        "import xgboost as xgb\n",
        "\n",
        "# Initialize XGBoost model\n",
        "xgb_model = xgb.XGBRegressor(\n",
        "    objective=\"reg:squarederror\",\n",
        "    n_estimators=100,\n",
        "    learning_rate=0.1,\n",
        "    max_depth=6,\n",
        "    random_state=42\n",
        ")\n",
        "\n",
        "# Define number of features to keep\n",
        "num_features_to_keep = 10  # Adjust based on dataset size\n",
        "\n",
        "# Perform Recursive Feature Elimination (RFE)\n",
        "rfe_selector = RFE(estimator=xgb_model, n_features_to_select=num_features_to_keep)\n",
        "X_rfe = rfe_selector.fit_transform(X_poly_df, y)\n",
        "\n",
        "# Get selected feature names\n",
        "selected_features = X_poly_df.columns[rfe_selector.support_]\n",
        "print(f\"Selected {len(selected_features)} features using Greedy Selection\")\n",
        "\n",
        "# Split dataset into training and testing\n",
        "X_train, X_test, y_train, y_test = train_test_split(X_rfe, y, test_size=0.2, random_state=42)\n",
        "\n",
        "# Train XGBoost model with selected features\n",
        "xgb_model.fit(X_train, y_train)\n",
        "\n",
        "# Make predictions\n",
        "y_pred = xgb_model.predict(X_test)\n",
        "\n"
      ],
      "metadata": {
        "id": "6chddbvPR8BJ"
      },
      "execution_count": null,
      "outputs": []
    },
    {
      "cell_type": "code",
      "source": [
        "# Evaluate model performance\n",
        "rmse = np.sqrt(mean_squared_error(y_test, y_pred))\n",
        "print(f\"Test RMSE after Greedy Feature Selection: {rmse:.4f}\")\n"
      ],
      "metadata": {
        "colab": {
          "base_uri": "https://localhost:8080/"
        },
        "id": "0fOLKhueTumm",
        "outputId": "804b0d61-5dda-4789-ac1d-a4964a492303"
      },
      "execution_count": 23,
      "outputs": [
        {
          "output_type": "stream",
          "name": "stdout",
          "text": [
            "Test RMSE after Greedy Feature Selection: 1.6916\n"
          ]
        }
      ]
    },
    {
      "cell_type": "markdown",
      "source": [
        "Findings:\n",
        "\n",
        "After using a simple XGBoost regressor on the data set the rmse of the predictions were:\n",
        "\n",
        "\n",
        "1.   1.3107: no dim red technique\n",
        "1.   4.2838: PCA\n",
        "1.   1.3107: Variance Thresholding (no columns dropped)\n",
        "2.   1.5277: Correlation Filtering\n",
        "2.   2.4314: ANOVA\n",
        "2.   7.5162: Mutual Information\n",
        "7.   1.6916: Greedy Selection\n",
        "\n",
        "In this scenerio, Correlation Filtering and Greedy Selection seem like the best options for Dimension Reduction\n",
        "\n"
      ],
      "metadata": {
        "id": "7mDuHzhvSSUl"
      }
    }
  ]
}